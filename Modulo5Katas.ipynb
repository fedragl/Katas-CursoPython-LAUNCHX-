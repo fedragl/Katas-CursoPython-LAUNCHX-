{
 "cells": [
  {
   "cell_type": "markdown",
   "metadata": {},
   "source": [
    "# Ejercicio1 - Utilizar operadores aritméticos\n",
    "## Operadores aritméticos en Python\n",
    "Exploremos cómo podemos crear un programa que pueda calcular la distancia entre dos planetas. Comenzaremos usando dos distancias de planetas: Tierra (149.597.870 km) y Júpiter (778.547.200 km)."
   ]
  },
  {
   "cell_type": "code",
   "execution_count": 6,
   "metadata": {},
   "outputs": [
    {
     "name": "stdout",
     "output_type": "stream",
     "text": [
      "628949330\n",
      "390577533\n"
     ]
    }
   ],
   "source": [
    "# Crear variables para almacenar las dos distancias\n",
    "# ¡Asegúrate de quitar las comas!\n",
    "Tierra = 149597870\n",
    "Jupiter = 778547200\n",
    "\n",
    "# Calcular la distancia entre planetas\n",
    "distancia_km=abs(Tierra-Jupiter)\n",
    "distancia_ml=int(abs(distancia_km*.621))\n",
    "print(distancia_km)\n",
    "print(distancia_ml)\n",
    "\n"
   ]
  },
  {
   "cell_type": "markdown",
   "metadata": {},
   "source": [
    "# Ejercicio 2: convierte cadenas en números y usa valores absolutos\n",
    "## Crear una aplicación para trabajar con números y entrada de usuario\n",
    "Con frecuencia, deberás convertir los valores de cadena en números para realizar correctamente diferentes operaciones o determinar el valor absoluto de un número.\n",
    "\n",
    "Para crear nuestra aplicación, queremos leer la distancia del sol para dos planetas, y luego mostrar la distancia entre los planetas. Haremos esto usando input para leer los valores, int para convertir a entero y luego abs para convertir el resultado en su valor absoluto."
   ]
  },
  {
   "cell_type": "code",
   "execution_count": 8,
   "metadata": {},
   "outputs": [
    {
     "name": "stdout",
     "output_type": "stream",
     "text": [
      "41400000\n",
      "25709400\n"
     ]
    }
   ],
   "source": [
    "# Almacenar las entradas del usuario\n",
    "#Pista: variable = input(\"¿Cuál es tu nombre?\")\n",
    "planet1=input('Introdice la distancia del primer planeta')\n",
    "planet2=input('Introdice la distancia del segundo planeta')\n",
    "\n",
    "# Convierte las cadenas de ambos planetas a números enteros\n",
    "planet1=int(planet1)\n",
    "planet2=int(planet2)\n",
    "\n",
    "# Realizar el cálculo y determinar el valor absoluto\n",
    "distance=abs(planet1-planet2)\n",
    "print(distance)\n",
    "# Convertir de KM a Millas\n",
    "distance_mil=int(distance*.621)\n",
    "print(distance_mil)\n"
   ]
  },
  {
   "cell_type": "markdown",
   "metadata": {},
   "source": [
    "## Resumen\n",
    "Se te encomendó la tarea de crear una aplicación que solicita al usuario las distancias del sol para dos planetas, así como calcular la diferencia entre las dos distancias. Utilizaste los operadores aritméticos en Python y funciones como abs e int para convertir valores.\n",
    "\n",
    "Aprendiste sobre:\n",
    "\n",
    "Los operadores matemáticos disponibles en Python.\n",
    "El orden de las operaciones.\n",
    "Cómo convertir cadenas en números."
   ]
  },
  {
   "cell_type": "code",
   "execution_count": 3,
   "metadata": {},
   "outputs": [
    {
     "name": "stdout",
     "output_type": "stream",
     "text": [
      "La diferencia entre ambos planetas es 280\n"
     ]
    }
   ],
   "source": [
    "planet1=int(input('Introduce la distancia del primer planeta: '))\n",
    "planet2=int(input('Introduce la distancia del segundo planeta: '))\n",
    "\n",
    "diferencia = planet1-planet2\n",
    "\n",
    "\n",
    "print(f'La diferencia entre ambos planetas es {abs(diferencia)}')"
   ]
  }
 ],
 "metadata": {
  "interpreter": {
   "hash": "aee8b7b246df8f9039afb4144a1f6fd8d2ca17a180786b69acc140d282b71a49"
  },
  "kernelspec": {
   "display_name": "Python 3.9.9 64-bit",
   "language": "python",
   "name": "python3"
  },
  "language_info": {
   "codemirror_mode": {
    "name": "ipython",
    "version": 3
   },
   "file_extension": ".py",
   "mimetype": "text/x-python",
   "name": "python",
   "nbconvert_exporter": "python",
   "pygments_lexer": "ipython3",
   "version": "3.9.9"
  },
  "orig_nbformat": 4
 },
 "nbformat": 4,
 "nbformat_minor": 2
}
