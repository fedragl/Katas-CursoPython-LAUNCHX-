{
 "cells": [
  {
   "cell_type": "markdown",
   "metadata": {},
   "source": [
    "# Ejercicio: Uso de funciones en Python"
   ]
  },
  {
   "cell_type": "markdown",
   "metadata": {},
   "source": [
    "## Ejercicio 1: Trabajar con argumentos en funciones\n",
    "\n",
    "Los argumentos requeridos en las funciones se utilizan cuando las funciones necesitan que esos argumentos funcionen correctamente. En este ejercicio, construirás un informe de combustible que requiere información de varias ubicaciones de combustible en todo el cohete."
   ]
  },
  {
   "cell_type": "code",
   "execution_count": 18,
   "metadata": {},
   "outputs": [
    {
     "data": {
      "text/plain": [
       "'The fuel average is 40.0\\n    TANK 1 HAS: 34 OF FUEL \\n    TANK 2 HAS: 54 OF FUEL \\n    TANK 3 HAS: 32 OF FUEL \\n    '"
      ]
     },
     "execution_count": 18,
     "metadata": {},
     "output_type": "execute_result"
    }
   ],
   "source": [
    "# Función para leer 3 tanques de combustible y muestre el promedio\n",
    "def read_tanks(tank1,tank2,tank3):\n",
    "    sum=(tank1+tank2+tank3)\n",
    "    print(tank_average(sum))\n",
    "\n",
    "# Función promedio \n",
    "def tank_average(sum):\n",
    "    tank_aver=sum/3\n",
    "    return f'The average of fuel is: {tank_aver}'\n",
    "\n",
    "def show_report(*fuel):\n",
    "    num_tanks=len(fuel)\n",
    "    fullfuel=sum(fuel)\n",
    "    aver=fullfuel/num_tanks\n",
    "    return f'''The fuel average is {aver}\n",
    "    TANK 1 HAS: {fuel[0]} OF FUEL \n",
    "    TANK 2 HAS: {fuel[1]} OF FUEL \n",
    "    TANK 3 HAS: {fuel[2]} OF FUEL \n",
    "    '''\n",
    "\n",
    "# Llamamos a la función que genera el reporte print(funcion(tanque1, tanque2, tanque3))\n",
    "show_report(34,54,32)\n"
   ]
  },
  {
   "cell_type": "markdown",
   "metadata": {},
   "source": [
    "# Ejercicio 2: Trabajo con argumentos de palabra clave\n",
    "## Ejercicio : Trabajar con argumentos de palabras clave en funciones\n",
    "\n",
    "En este ejercicio, construirás un informe de cohete que requiere varias piezas de información, como el tiempo hasta el destino, el combustible a la izquierda y el nombre del destino. Comienza por crear una función que creará un informe preciso de la misión:"
   ]
  },
  {
   "cell_type": "code",
   "execution_count": 26,
   "metadata": {},
   "outputs": [
    {
     "name": "stdout",
     "output_type": "stream",
     "text": [
      "\n",
      "    Destino: Moon\n",
      "    Tiempo de vuelo: 65\n",
      "    Tanque: 200000 \n",
      "    \n",
      "\n",
      "    Destino: Moon\n",
      "    Tiempo de vuelo: 76\n",
      "    Tanque: 500000 \n",
      "    \n",
      "\n",
      "    Destino: Moon\n",
      "    Tiempo de vuelo: 76\n",
      "    Tanque: 500000 \n",
      "    main has 300000 external has 200000 \n"
     ]
    }
   ],
   "source": [
    "# Función con un informe preciso de la misión. \n",
    "# Considera hora de prelanzamiento, tiempo de vuelo, destino, tanque \n",
    "\n",
    "def informe_de_mision1(hprelanzmiento,tvuelo,destino,tanque):\n",
    "    return f'''\n",
    "    Destino: {destino}\n",
    "    Tiempo de vuelo: {hprelanzmiento+tvuelo}\n",
    "    Tanque: {tanque} \n",
    "    '''\n",
    "print(informe_de_mision1(14, 51, \"Moon\", 200000))\n",
    "\n",
    "\n",
    "# Escribe tu nueva función de reporte considerando lo anterior\n",
    "def informe_de_mision2(destino,*tiempo,**fuel_reservoirs):\n",
    "    return f'''\n",
    "    Destino: {destino}\n",
    "    Tiempo de vuelo: {sum(tiempo)}\n",
    "    Tanque: {sum(fuel_reservoirs.values())} \n",
    "    '''\n",
    "print(informe_de_mision2(\"Moon\", 10, 15, 51, main=300000, external=200000))\n",
    "\n",
    "# Escribe tu nueva función\n",
    "def informe_de_mision3(destino,*tiempo,**fuel_reservoirs):\n",
    "    informe=f'''\n",
    "    Destino: {destino}\n",
    "    Tiempo de vuelo: {sum(tiempo)}\n",
    "    Tanque: {sum(fuel_reservoirs.values())} \n",
    "    '''\n",
    "    for tank,fuel in fuel_reservoirs.items():\n",
    "        informe+= f'{tank} has {fuel} '\n",
    "    return(informe)\n",
    "print(informe_de_mision3(\"Moon\", 10, 15, 51, main=300000, external=200000))"
   ]
  }
 ],
 "metadata": {
  "interpreter": {
   "hash": "aee8b7b246df8f9039afb4144a1f6fd8d2ca17a180786b69acc140d282b71a49"
  },
  "kernelspec": {
   "display_name": "Python 3.9.9 64-bit",
   "language": "python",
   "name": "python3"
  },
  "language_info": {
   "codemirror_mode": {
    "name": "ipython",
    "version": 3
   },
   "file_extension": ".py",
   "mimetype": "text/x-python",
   "name": "python",
   "nbconvert_exporter": "python",
   "pygments_lexer": "ipython3",
   "version": "3.9.9"
  },
  "orig_nbformat": 4
 },
 "nbformat": 4,
 "nbformat_minor": 2
}
